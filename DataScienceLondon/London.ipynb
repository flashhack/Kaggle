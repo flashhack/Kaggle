{
 "cells": [
  {
   "cell_type": "markdown",
   "metadata": {},
   "source": [
    "https://www.kaggle.com/c/data-science-london-scikit-learn"
   ]
  },
  {
   "cell_type": "code",
   "execution_count": 1,
   "metadata": {
    "collapsed": false
   },
   "outputs": [
    {
     "name": "stdout",
     "output_type": "stream",
     "text": [
      "Populating the interactive namespace from numpy and matplotlib\n"
     ]
    }
   ],
   "source": [
    "%pylab inline\n",
    "import pandas as pd\n",
    "from pandas import Series, DataFrame\n",
    "import re\n",
    "import datetime as dt\n",
    "import matplotlib.pyplot as plt\n",
    "#为了整数相除自动变小数，不round\n",
    "from __future__ import division\n",
    "from sklearn.decomposition.pca import PCA\n",
    "import statsmodels.api as sm\n",
    "from sklearn import svm\n",
    "from sklearn.metrics import accuracy_score\n",
    "from sklearn import cross_validation\n",
    "from sklearn.cross_validation import cross_val_score\n",
    "from sklearn.grid_search import GridSearchCV\n",
    "from operator import itemgetter\n",
    "from sklearn.ensemble import RandomForestClassifier\n",
    "from sklearn.mixture import GMM"
   ]
  },
  {
   "cell_type": "code",
   "execution_count": 531,
   "metadata": {
    "collapsed": true
   },
   "outputs": [],
   "source": [
    "plt.rc('figure', figsize=(20, 10))"
   ]
  },
  {
   "cell_type": "code",
   "execution_count": 365,
   "metadata": {
    "collapsed": true
   },
   "outputs": [],
   "source": [
    "X_test = pd.read_csv('test.csv', header=None)\n",
    "y = pd.read_csv('trainLabels.csv', header=None)\n",
    "X = pd.read_csv('train.csv', header=None)"
   ]
  },
  {
   "cell_type": "code",
   "execution_count": 274,
   "metadata": {
    "collapsed": false
   },
   "outputs": [
    {
     "data": {
      "text/html": [
       "<div style=\"max-height:1000px;max-width:1500px;overflow:auto;\">\n",
       "<table border=\"1\" class=\"dataframe\">\n",
       "  <thead>\n",
       "    <tr style=\"text-align: right;\">\n",
       "      <th></th>\n",
       "      <th>0</th>\n",
       "      <th>1</th>\n",
       "      <th>2</th>\n",
       "      <th>3</th>\n",
       "      <th>4</th>\n",
       "      <th>5</th>\n",
       "      <th>6</th>\n",
       "      <th>7</th>\n",
       "      <th>8</th>\n",
       "      <th>9</th>\n",
       "      <th>...</th>\n",
       "      <th>30</th>\n",
       "      <th>31</th>\n",
       "      <th>32</th>\n",
       "      <th>33</th>\n",
       "      <th>34</th>\n",
       "      <th>35</th>\n",
       "      <th>36</th>\n",
       "      <th>37</th>\n",
       "      <th>38</th>\n",
       "      <th>39</th>\n",
       "    </tr>\n",
       "  </thead>\n",
       "  <tbody>\n",
       "    <tr>\n",
       "      <th>0</th>\n",
       "      <td> 0.299403</td>\n",
       "      <td>-1.226624</td>\n",
       "      <td> 1.498425</td>\n",
       "      <td>-1.176150</td>\n",
       "      <td> 5.289853</td>\n",
       "      <td> 0.208297</td>\n",
       "      <td> 2.404498</td>\n",
       "      <td> 1.594506</td>\n",
       "      <td>-0.051608</td>\n",
       "      <td> 0.663234</td>\n",
       "      <td>...</td>\n",
       "      <td>-0.850465</td>\n",
       "      <td>-0.622990</td>\n",
       "      <td>-1.833057</td>\n",
       "      <td> 0.293024</td>\n",
       "      <td> 3.552681</td>\n",
       "      <td> 0.717611</td>\n",
       "      <td> 3.305972</td>\n",
       "      <td>-2.715559</td>\n",
       "      <td>-2.682409</td>\n",
       "      <td> 0.101050</td>\n",
       "    </tr>\n",
       "    <tr>\n",
       "      <th>1</th>\n",
       "      <td>-1.174176</td>\n",
       "      <td> 0.332157</td>\n",
       "      <td> 0.949919</td>\n",
       "      <td>-1.285328</td>\n",
       "      <td> 2.199061</td>\n",
       "      <td>-0.151268</td>\n",
       "      <td>-0.427039</td>\n",
       "      <td> 2.619246</td>\n",
       "      <td>-0.765884</td>\n",
       "      <td>-0.093780</td>\n",
       "      <td>...</td>\n",
       "      <td>-0.819750</td>\n",
       "      <td> 0.012037</td>\n",
       "      <td> 2.038836</td>\n",
       "      <td> 0.468579</td>\n",
       "      <td>-0.517657</td>\n",
       "      <td> 0.422326</td>\n",
       "      <td> 0.803699</td>\n",
       "      <td> 1.213219</td>\n",
       "      <td> 1.382932</td>\n",
       "      <td>-1.817761</td>\n",
       "    </tr>\n",
       "    <tr>\n",
       "      <th>2</th>\n",
       "      <td> 1.192222</td>\n",
       "      <td>-0.414371</td>\n",
       "      <td> 0.067054</td>\n",
       "      <td>-2.233568</td>\n",
       "      <td> 3.658881</td>\n",
       "      <td> 0.089007</td>\n",
       "      <td> 0.203439</td>\n",
       "      <td>-4.219054</td>\n",
       "      <td>-1.184919</td>\n",
       "      <td>-1.240310</td>\n",
       "      <td>...</td>\n",
       "      <td>-0.604501</td>\n",
       "      <td> 0.750054</td>\n",
       "      <td>-3.360521</td>\n",
       "      <td> 0.856988</td>\n",
       "      <td>-2.751451</td>\n",
       "      <td>-1.582735</td>\n",
       "      <td> 1.672246</td>\n",
       "      <td> 0.656438</td>\n",
       "      <td>-0.932473</td>\n",
       "      <td> 2.987436</td>\n",
       "    </tr>\n",
       "    <tr>\n",
       "      <th>3</th>\n",
       "      <td> 1.573270</td>\n",
       "      <td>-0.580318</td>\n",
       "      <td>-0.866332</td>\n",
       "      <td>-0.603812</td>\n",
       "      <td> 3.125716</td>\n",
       "      <td> 0.870321</td>\n",
       "      <td>-0.161992</td>\n",
       "      <td> 4.499666</td>\n",
       "      <td> 1.038741</td>\n",
       "      <td>-1.092716</td>\n",
       "      <td>...</td>\n",
       "      <td> 1.022959</td>\n",
       "      <td> 1.275598</td>\n",
       "      <td>-3.480110</td>\n",
       "      <td>-1.065252</td>\n",
       "      <td> 2.153133</td>\n",
       "      <td> 1.563539</td>\n",
       "      <td> 2.767117</td>\n",
       "      <td> 0.215748</td>\n",
       "      <td> 0.619645</td>\n",
       "      <td> 1.883397</td>\n",
       "    </tr>\n",
       "    <tr>\n",
       "      <th>4</th>\n",
       "      <td>-0.613071</td>\n",
       "      <td>-0.644204</td>\n",
       "      <td> 1.112558</td>\n",
       "      <td>-0.032397</td>\n",
       "      <td> 3.490142</td>\n",
       "      <td>-0.011935</td>\n",
       "      <td> 1.443521</td>\n",
       "      <td>-4.290282</td>\n",
       "      <td>-1.761308</td>\n",
       "      <td> 0.807652</td>\n",
       "      <td>...</td>\n",
       "      <td> 0.513906</td>\n",
       "      <td>-1.803473</td>\n",
       "      <td> 0.518579</td>\n",
       "      <td>-0.205029</td>\n",
       "      <td>-4.744566</td>\n",
       "      <td>-1.520015</td>\n",
       "      <td> 1.830651</td>\n",
       "      <td> 0.870772</td>\n",
       "      <td>-1.894609</td>\n",
       "      <td> 0.408332</td>\n",
       "    </tr>\n",
       "  </tbody>\n",
       "</table>\n",
       "<p>5 rows × 40 columns</p>\n",
       "</div>"
      ],
      "text/plain": [
       "         0         1         2         3         4         5         6   \\\n",
       "0  0.299403 -1.226624  1.498425 -1.176150  5.289853  0.208297  2.404498   \n",
       "1 -1.174176  0.332157  0.949919 -1.285328  2.199061 -0.151268 -0.427039   \n",
       "2  1.192222 -0.414371  0.067054 -2.233568  3.658881  0.089007  0.203439   \n",
       "3  1.573270 -0.580318 -0.866332 -0.603812  3.125716  0.870321 -0.161992   \n",
       "4 -0.613071 -0.644204  1.112558 -0.032397  3.490142 -0.011935  1.443521   \n",
       "\n",
       "         7         8         9     ...           30        31        32  \\\n",
       "0  1.594506 -0.051608  0.663234    ...    -0.850465 -0.622990 -1.833057   \n",
       "1  2.619246 -0.765884 -0.093780    ...    -0.819750  0.012037  2.038836   \n",
       "2 -4.219054 -1.184919 -1.240310    ...    -0.604501  0.750054 -3.360521   \n",
       "3  4.499666  1.038741 -1.092716    ...     1.022959  1.275598 -3.480110   \n",
       "4 -4.290282 -1.761308  0.807652    ...     0.513906 -1.803473  0.518579   \n",
       "\n",
       "         33        34        35        36        37        38        39  \n",
       "0  0.293024  3.552681  0.717611  3.305972 -2.715559 -2.682409  0.101050  \n",
       "1  0.468579 -0.517657  0.422326  0.803699  1.213219  1.382932 -1.817761  \n",
       "2  0.856988 -2.751451 -1.582735  1.672246  0.656438 -0.932473  2.987436  \n",
       "3 -1.065252  2.153133  1.563539  2.767117  0.215748  0.619645  1.883397  \n",
       "4 -0.205029 -4.744566 -1.520015  1.830651  0.870772 -1.894609  0.408332  \n",
       "\n",
       "[5 rows x 40 columns]"
      ]
     },
     "execution_count": 274,
     "metadata": {},
     "output_type": "execute_result"
    }
   ],
   "source": [
    "X.head()"
   ]
  },
  {
   "cell_type": "code",
   "execution_count": 276,
   "metadata": {
    "collapsed": false
   },
   "outputs": [
    {
     "data": {
      "text/html": [
       "<div style=\"max-height:1000px;max-width:1500px;overflow:auto;\">\n",
       "<table border=\"1\" class=\"dataframe\">\n",
       "  <thead>\n",
       "    <tr style=\"text-align: right;\">\n",
       "      <th></th>\n",
       "      <th>0</th>\n",
       "      <th>1</th>\n",
       "      <th>2</th>\n",
       "      <th>3</th>\n",
       "      <th>4</th>\n",
       "      <th>5</th>\n",
       "      <th>6</th>\n",
       "      <th>7</th>\n",
       "      <th>8</th>\n",
       "      <th>9</th>\n",
       "      <th>...</th>\n",
       "      <th>30</th>\n",
       "      <th>31</th>\n",
       "      <th>32</th>\n",
       "      <th>33</th>\n",
       "      <th>34</th>\n",
       "      <th>35</th>\n",
       "      <th>36</th>\n",
       "      <th>37</th>\n",
       "      <th>38</th>\n",
       "      <th>39</th>\n",
       "    </tr>\n",
       "  </thead>\n",
       "  <tbody>\n",
       "    <tr>\n",
       "      <th>count</th>\n",
       "      <td> 1000.000000</td>\n",
       "      <td> 1000.000000</td>\n",
       "      <td> 1000.000000</td>\n",
       "      <td> 1000.000000</td>\n",
       "      <td> 1000.000000</td>\n",
       "      <td> 1000.000000</td>\n",
       "      <td> 1000.000000</td>\n",
       "      <td> 1000.000000</td>\n",
       "      <td> 1000.000000</td>\n",
       "      <td> 1000.000000</td>\n",
       "      <td>...</td>\n",
       "      <td> 1000.000000</td>\n",
       "      <td> 1000.000000</td>\n",
       "      <td> 1000.000000</td>\n",
       "      <td> 1000.000000</td>\n",
       "      <td> 1000.000000</td>\n",
       "      <td> 1000.000000</td>\n",
       "      <td> 1000.000000</td>\n",
       "      <td> 1000.000000</td>\n",
       "      <td> 1000.000000</td>\n",
       "      <td> 1000.000000</td>\n",
       "    </tr>\n",
       "    <tr>\n",
       "      <th>mean</th>\n",
       "      <td>    0.025596</td>\n",
       "      <td>   -0.024526</td>\n",
       "      <td>   -0.024088</td>\n",
       "      <td>   -0.002271</td>\n",
       "      <td>    1.092329</td>\n",
       "      <td>   -0.006250</td>\n",
       "      <td>    0.497342</td>\n",
       "      <td>   -0.037883</td>\n",
       "      <td>    0.026391</td>\n",
       "      <td>   -0.003597</td>\n",
       "      <td>...</td>\n",
       "      <td>    0.030651</td>\n",
       "      <td>    0.022951</td>\n",
       "      <td>   -0.542491</td>\n",
       "      <td>   -0.011608</td>\n",
       "      <td>   -0.483507</td>\n",
       "      <td>    0.033371</td>\n",
       "      <td>    0.567185</td>\n",
       "      <td>    0.006849</td>\n",
       "      <td>   -0.892659</td>\n",
       "      <td>    0.609451</td>\n",
       "    </tr>\n",
       "    <tr>\n",
       "      <th>std</th>\n",
       "      <td>    1.008282</td>\n",
       "      <td>    1.016298</td>\n",
       "      <td>    0.979109</td>\n",
       "      <td>    0.970575</td>\n",
       "      <td>    4.538834</td>\n",
       "      <td>    0.989128</td>\n",
       "      <td>    2.118819</td>\n",
       "      <td>    2.232256</td>\n",
       "      <td>    1.001064</td>\n",
       "      <td>    1.013520</td>\n",
       "      <td>...</td>\n",
       "      <td>    1.011645</td>\n",
       "      <td>    1.001375</td>\n",
       "      <td>    2.239939</td>\n",
       "      <td>    1.022456</td>\n",
       "      <td>    2.121281</td>\n",
       "      <td>    1.007044</td>\n",
       "      <td>    2.227876</td>\n",
       "      <td>    0.997635</td>\n",
       "      <td>    2.022022</td>\n",
       "      <td>    2.045439</td>\n",
       "    </tr>\n",
       "    <tr>\n",
       "      <th>min</th>\n",
       "      <td>   -3.365711</td>\n",
       "      <td>   -3.492086</td>\n",
       "      <td>   -2.695602</td>\n",
       "      <td>   -3.460471</td>\n",
       "      <td>  -16.421901</td>\n",
       "      <td>   -3.041250</td>\n",
       "      <td>   -7.224761</td>\n",
       "      <td>   -6.509084</td>\n",
       "      <td>   -3.145588</td>\n",
       "      <td>   -2.749812</td>\n",
       "      <td>...</td>\n",
       "      <td>   -3.379194</td>\n",
       "      <td>   -2.971125</td>\n",
       "      <td>   -7.840890</td>\n",
       "      <td>   -2.999564</td>\n",
       "      <td>   -7.124105</td>\n",
       "      <td>   -2.952358</td>\n",
       "      <td>   -5.452254</td>\n",
       "      <td>   -3.473913</td>\n",
       "      <td>   -8.051722</td>\n",
       "      <td>   -7.799086</td>\n",
       "    </tr>\n",
       "    <tr>\n",
       "      <th>25%</th>\n",
       "      <td>   -0.669010</td>\n",
       "      <td>   -0.693937</td>\n",
       "      <td>   -0.698830</td>\n",
       "      <td>   -0.617557</td>\n",
       "      <td>   -1.801997</td>\n",
       "      <td>   -0.732265</td>\n",
       "      <td>   -0.838619</td>\n",
       "      <td>   -1.604037</td>\n",
       "      <td>   -0.677562</td>\n",
       "      <td>   -0.682220</td>\n",
       "      <td>...</td>\n",
       "      <td>   -0.659457</td>\n",
       "      <td>   -0.696032</td>\n",
       "      <td>   -2.121943</td>\n",
       "      <td>   -0.664550</td>\n",
       "      <td>   -1.879247</td>\n",
       "      <td>   -0.642861</td>\n",
       "      <td>   -1.059786</td>\n",
       "      <td>   -0.691162</td>\n",
       "      <td>   -2.220126</td>\n",
       "      <td>   -0.565041</td>\n",
       "    </tr>\n",
       "    <tr>\n",
       "      <th>50%</th>\n",
       "      <td>    0.027895</td>\n",
       "      <td>   -0.033194</td>\n",
       "      <td>    0.008145</td>\n",
       "      <td>    0.002327</td>\n",
       "      <td>    0.862818</td>\n",
       "      <td>    0.027041</td>\n",
       "      <td>    0.582321</td>\n",
       "      <td>    0.018809</td>\n",
       "      <td>    0.022092</td>\n",
       "      <td>   -0.036110</td>\n",
       "      <td>...</td>\n",
       "      <td>    0.049416</td>\n",
       "      <td>    0.049778</td>\n",
       "      <td>   -0.568262</td>\n",
       "      <td>   -0.028097</td>\n",
       "      <td>   -0.493575</td>\n",
       "      <td>    0.037732</td>\n",
       "      <td>    0.455474</td>\n",
       "      <td>    0.038284</td>\n",
       "      <td>   -0.855470</td>\n",
       "      <td>    0.779944</td>\n",
       "    </tr>\n",
       "    <tr>\n",
       "      <th>75%</th>\n",
       "      <td>    0.762520</td>\n",
       "      <td>    0.682753</td>\n",
       "      <td>    0.661434</td>\n",
       "      <td>    0.640743</td>\n",
       "      <td>    3.843172</td>\n",
       "      <td>    0.671456</td>\n",
       "      <td>    1.913664</td>\n",
       "      <td>    1.438304</td>\n",
       "      <td>    0.741310</td>\n",
       "      <td>    0.665364</td>\n",
       "      <td>...</td>\n",
       "      <td>    0.747031</td>\n",
       "      <td>    0.699917</td>\n",
       "      <td>    0.939348</td>\n",
       "      <td>    0.651374</td>\n",
       "      <td>    1.005795</td>\n",
       "      <td>    0.691800</td>\n",
       "      <td>    2.122157</td>\n",
       "      <td>    0.693535</td>\n",
       "      <td>    0.388698</td>\n",
       "      <td>    1.992193</td>\n",
       "    </tr>\n",
       "    <tr>\n",
       "      <th>max</th>\n",
       "      <td>    3.326246</td>\n",
       "      <td>    3.583870</td>\n",
       "      <td>    2.546507</td>\n",
       "      <td>    3.088738</td>\n",
       "      <td>   17.565345</td>\n",
       "      <td>    3.102997</td>\n",
       "      <td>    7.592666</td>\n",
       "      <td>    7.130097</td>\n",
       "      <td>    3.145258</td>\n",
       "      <td>    3.919426</td>\n",
       "      <td>...</td>\n",
       "      <td>    2.844792</td>\n",
       "      <td>    3.688047</td>\n",
       "      <td>    7.160379</td>\n",
       "      <td>    3.353631</td>\n",
       "      <td>    6.005818</td>\n",
       "      <td>    3.420561</td>\n",
       "      <td>    6.603499</td>\n",
       "      <td>    3.492548</td>\n",
       "      <td>    5.774120</td>\n",
       "      <td>    6.803984</td>\n",
       "    </tr>\n",
       "  </tbody>\n",
       "</table>\n",
       "<p>8 rows × 40 columns</p>\n",
       "</div>"
      ],
      "text/plain": [
       "                0            1            2            3            4   \\\n",
       "count  1000.000000  1000.000000  1000.000000  1000.000000  1000.000000   \n",
       "mean      0.025596    -0.024526    -0.024088    -0.002271     1.092329   \n",
       "std       1.008282     1.016298     0.979109     0.970575     4.538834   \n",
       "min      -3.365711    -3.492086    -2.695602    -3.460471   -16.421901   \n",
       "25%      -0.669010    -0.693937    -0.698830    -0.617557    -1.801997   \n",
       "50%       0.027895    -0.033194     0.008145     0.002327     0.862818   \n",
       "75%       0.762520     0.682753     0.661434     0.640743     3.843172   \n",
       "max       3.326246     3.583870     2.546507     3.088738    17.565345   \n",
       "\n",
       "                5            6            7            8            9   \\\n",
       "count  1000.000000  1000.000000  1000.000000  1000.000000  1000.000000   \n",
       "mean     -0.006250     0.497342    -0.037883     0.026391    -0.003597   \n",
       "std       0.989128     2.118819     2.232256     1.001064     1.013520   \n",
       "min      -3.041250    -7.224761    -6.509084    -3.145588    -2.749812   \n",
       "25%      -0.732265    -0.838619    -1.604037    -0.677562    -0.682220   \n",
       "50%       0.027041     0.582321     0.018809     0.022092    -0.036110   \n",
       "75%       0.671456     1.913664     1.438304     0.741310     0.665364   \n",
       "max       3.102997     7.592666     7.130097     3.145258     3.919426   \n",
       "\n",
       "          ...                30           31           32           33  \\\n",
       "count     ...       1000.000000  1000.000000  1000.000000  1000.000000   \n",
       "mean      ...          0.030651     0.022951    -0.542491    -0.011608   \n",
       "std       ...          1.011645     1.001375     2.239939     1.022456   \n",
       "min       ...         -3.379194    -2.971125    -7.840890    -2.999564   \n",
       "25%       ...         -0.659457    -0.696032    -2.121943    -0.664550   \n",
       "50%       ...          0.049416     0.049778    -0.568262    -0.028097   \n",
       "75%       ...          0.747031     0.699917     0.939348     0.651374   \n",
       "max       ...          2.844792     3.688047     7.160379     3.353631   \n",
       "\n",
       "                34           35           36           37           38  \\\n",
       "count  1000.000000  1000.000000  1000.000000  1000.000000  1000.000000   \n",
       "mean     -0.483507     0.033371     0.567185     0.006849    -0.892659   \n",
       "std       2.121281     1.007044     2.227876     0.997635     2.022022   \n",
       "min      -7.124105    -2.952358    -5.452254    -3.473913    -8.051722   \n",
       "25%      -1.879247    -0.642861    -1.059786    -0.691162    -2.220126   \n",
       "50%      -0.493575     0.037732     0.455474     0.038284    -0.855470   \n",
       "75%       1.005795     0.691800     2.122157     0.693535     0.388698   \n",
       "max       6.005818     3.420561     6.603499     3.492548     5.774120   \n",
       "\n",
       "                39  \n",
       "count  1000.000000  \n",
       "mean      0.609451  \n",
       "std       2.045439  \n",
       "min      -7.799086  \n",
       "25%      -0.565041  \n",
       "50%       0.779944  \n",
       "75%       1.992193  \n",
       "max       6.803984  \n",
       "\n",
       "[8 rows x 40 columns]"
      ]
     },
     "execution_count": 276,
     "metadata": {},
     "output_type": "execute_result"
    }
   ],
   "source": [
    "X_des = X.describe()\n",
    "X_des"
   ]
  },
  {
   "cell_type": "code",
   "execution_count": 277,
   "metadata": {
    "collapsed": false
   },
   "outputs": [
    {
     "data": {
      "text/plain": [
       "<matplotlib.axes._subplots.AxesSubplot at 0x113b0a550>"
      ]
     },
     "execution_count": 277,
     "metadata": {},
     "output_type": "execute_result"
    },
    {
     "data": {
      "image/png": "[encoded data removed]",
      "text/plain": [
       "<matplotlib.figure.Figure at 0x119237a50>"
      ]
     },
     "metadata": {},
     "output_type": "display_data"
    }
   ],
   "source": [
    "fig, axes = plt.subplots(nrows=1, ncols=2)\n",
    "\n",
    "X_des.loc['mean'].hist(ax=axes[0])\n",
    "X_des.loc['std'].hist(ax=axes[1])"
   ]
  },
  {
   "cell_type": "code",
   "execution_count": 278,
   "metadata": {
    "collapsed": false
   },
   "outputs": [
    {
     "data": {
      "text/html": [
       "<div style=\"max-height:1000px;max-width:1500px;overflow:auto;\">\n",
       "<table border=\"1\" class=\"dataframe\">\n",
       "  <thead>\n",
       "    <tr style=\"text-align: right;\">\n",
       "      <th></th>\n",
       "      <th>0</th>\n",
       "      <th>1</th>\n",
       "      <th>2</th>\n",
       "      <th>3</th>\n",
       "      <th>4</th>\n",
       "      <th>5</th>\n",
       "      <th>6</th>\n",
       "      <th>7</th>\n",
       "      <th>8</th>\n",
       "      <th>9</th>\n",
       "      <th>...</th>\n",
       "      <th>30</th>\n",
       "      <th>31</th>\n",
       "      <th>32</th>\n",
       "      <th>33</th>\n",
       "      <th>34</th>\n",
       "      <th>35</th>\n",
       "      <th>36</th>\n",
       "      <th>37</th>\n",
       "      <th>38</th>\n",
       "      <th>39</th>\n",
       "    </tr>\n",
       "  </thead>\n",
       "  <tbody>\n",
       "    <tr>\n",
       "      <th>0</th>\n",
       "      <td> 1.000000</td>\n",
       "      <td>-0.029022</td>\n",
       "      <td> 0.033437</td>\n",
       "      <td> 0.012054</td>\n",
       "      <td>-0.022404</td>\n",
       "      <td> 0.037209</td>\n",
       "      <td> 0.019134</td>\n",
       "      <td> 0.015277</td>\n",
       "      <td>-0.045568</td>\n",
       "      <td>-0.023777</td>\n",
       "      <td>...</td>\n",
       "      <td> 0.012446</td>\n",
       "      <td> 0.023033</td>\n",
       "      <td>-0.004701</td>\n",
       "      <td> 0.005180</td>\n",
       "      <td> 0.012961</td>\n",
       "      <td> 0.047455</td>\n",
       "      <td>-0.026327</td>\n",
       "      <td> 0.038844</td>\n",
       "      <td> 0.016098</td>\n",
       "      <td>-0.045840</td>\n",
       "    </tr>\n",
       "    <tr>\n",
       "      <th>1</th>\n",
       "      <td>-0.029022</td>\n",
       "      <td> 1.000000</td>\n",
       "      <td> 0.014202</td>\n",
       "      <td> 0.009663</td>\n",
       "      <td> 0.044758</td>\n",
       "      <td>-0.034173</td>\n",
       "      <td>-0.008474</td>\n",
       "      <td> 0.006568</td>\n",
       "      <td> 0.039895</td>\n",
       "      <td> 0.008368</td>\n",
       "      <td>...</td>\n",
       "      <td>-0.000782</td>\n",
       "      <td>-0.052864</td>\n",
       "      <td> 0.005583</td>\n",
       "      <td> 0.009125</td>\n",
       "      <td>-0.026617</td>\n",
       "      <td> 0.053087</td>\n",
       "      <td> 0.039265</td>\n",
       "      <td> 0.019537</td>\n",
       "      <td>-0.046295</td>\n",
       "      <td>-0.005667</td>\n",
       "    </tr>\n",
       "    <tr>\n",
       "      <th>2</th>\n",
       "      <td> 0.033437</td>\n",
       "      <td> 0.014202</td>\n",
       "      <td> 1.000000</td>\n",
       "      <td> 0.007579</td>\n",
       "      <td> 0.019658</td>\n",
       "      <td>-0.013532</td>\n",
       "      <td>-0.054348</td>\n",
       "      <td>-0.008825</td>\n",
       "      <td> 0.019443</td>\n",
       "      <td>-0.015920</td>\n",
       "      <td>...</td>\n",
       "      <td> 0.034527</td>\n",
       "      <td>-0.002177</td>\n",
       "      <td>-0.038702</td>\n",
       "      <td> 0.046611</td>\n",
       "      <td> 0.008141</td>\n",
       "      <td> 0.014150</td>\n",
       "      <td> 0.020865</td>\n",
       "      <td> 0.030127</td>\n",
       "      <td>-0.004390</td>\n",
       "      <td> 0.020101</td>\n",
       "    </tr>\n",
       "    <tr>\n",
       "      <th>3</th>\n",
       "      <td> 0.012054</td>\n",
       "      <td> 0.009663</td>\n",
       "      <td> 0.007579</td>\n",
       "      <td> 1.000000</td>\n",
       "      <td> 0.023827</td>\n",
       "      <td> 0.021305</td>\n",
       "      <td>-0.028903</td>\n",
       "      <td>-0.044407</td>\n",
       "      <td> 0.001253</td>\n",
       "      <td>-0.049892</td>\n",
       "      <td>...</td>\n",
       "      <td> 0.025678</td>\n",
       "      <td>-0.006878</td>\n",
       "      <td>-0.030960</td>\n",
       "      <td>-0.018130</td>\n",
       "      <td>-0.055653</td>\n",
       "      <td> 0.024811</td>\n",
       "      <td> 0.048042</td>\n",
       "      <td> 0.016295</td>\n",
       "      <td> 0.041164</td>\n",
       "      <td> 0.021217</td>\n",
       "    </tr>\n",
       "    <tr>\n",
       "      <th>4</th>\n",
       "      <td>-0.022404</td>\n",
       "      <td> 0.044758</td>\n",
       "      <td> 0.019658</td>\n",
       "      <td> 0.023827</td>\n",
       "      <td> 1.000000</td>\n",
       "      <td> 0.027705</td>\n",
       "      <td>-0.338883</td>\n",
       "      <td> 0.206964</td>\n",
       "      <td> 0.063638</td>\n",
       "      <td> 0.079723</td>\n",
       "      <td>...</td>\n",
       "      <td>-0.039205</td>\n",
       "      <td> 0.007981</td>\n",
       "      <td>-0.325592</td>\n",
       "      <td> 0.031156</td>\n",
       "      <td>-0.212497</td>\n",
       "      <td> 0.015455</td>\n",
       "      <td> 0.016657</td>\n",
       "      <td> 0.021133</td>\n",
       "      <td>-0.084677</td>\n",
       "      <td>-0.227957</td>\n",
       "    </tr>\n",
       "  </tbody>\n",
       "</table>\n",
       "<p>5 rows × 40 columns</p>\n",
       "</div>"
      ],
      "text/plain": [
       "         0         1         2         3         4         5         6   \\\n",
       "0  1.000000 -0.029022  0.033437  0.012054 -0.022404  0.037209  0.019134   \n",
       "1 -0.029022  1.000000  0.014202  0.009663  0.044758 -0.034173 -0.008474   \n",
       "2  0.033437  0.014202  1.000000  0.007579  0.019658 -0.013532 -0.054348   \n",
       "3  0.012054  0.009663  0.007579  1.000000  0.023827  0.021305 -0.028903   \n",
       "4 -0.022404  0.044758  0.019658  0.023827  1.000000  0.027705 -0.338883   \n",
       "\n",
       "         7         8         9     ...           30        31        32  \\\n",
       "0  0.015277 -0.045568 -0.023777    ...     0.012446  0.023033 -0.004701   \n",
       "1  0.006568  0.039895  0.008368    ...    -0.000782 -0.052864  0.005583   \n",
       "2 -0.008825  0.019443 -0.015920    ...     0.034527 -0.002177 -0.038702   \n",
       "3 -0.044407  0.001253 -0.049892    ...     0.025678 -0.006878 -0.030960   \n",
       "4  0.206964  0.063638  0.079723    ...    -0.039205  0.007981 -0.325592   \n",
       "\n",
       "         33        34        35        36        37        38        39  \n",
       "0  0.005180  0.012961  0.047455 -0.026327  0.038844  0.016098 -0.045840  \n",
       "1  0.009125 -0.026617  0.053087  0.039265  0.019537 -0.046295 -0.005667  \n",
       "2  0.046611  0.008141  0.014150  0.020865  0.030127 -0.004390  0.020101  \n",
       "3 -0.018130 -0.055653  0.024811  0.048042  0.016295  0.041164  0.021217  \n",
       "4  0.031156 -0.212497  0.015455  0.016657  0.021133 -0.084677 -0.227957  \n",
       "\n",
       "[5 rows x 40 columns]"
      ]
     },
     "execution_count": 278,
     "metadata": {},
     "output_type": "execute_result"
    }
   ],
   "source": [
    "X_corr=X.corr()\n",
    "X_corr.head()"
   ]
  },
  {
   "cell_type": "markdown",
   "metadata": {},
   "source": [
    "### 直接SVM裸fit"
   ]
  },
  {
   "cell_type": "code",
   "execution_count": 352,
   "metadata": {
    "collapsed": true
   },
   "outputs": [],
   "source": [
    "def test_svm(C_svm, gamma_svm):\n",
    "    k_fold = cross_validation.KFold(len(X), n_folds=10)\n",
    "    scores = []\n",
    "    for train_indices, test_indices in k_fold:\n",
    "        svc = svm.SVC(C=C_svm, kernel='rbf', gamma=gamma_svm)\n",
    "        svc.fit(X.values[train_indices], y.values.ravel()[train_indices])\n",
    "        score = svc.score(X.values[test_indices], y.values.ravel()[test_indices])\n",
    "        scores.append(score)\n",
    "    #print scores\n",
    "    return sum(scores)/len(scores)"
   ]
  },
  {
   "cell_type": "code",
   "execution_count": 392,
   "metadata": {
    "collapsed": true
   },
   "outputs": [],
   "source": [
    "# 直接用cv_score更简单\n",
    "def test_svm(C_svm, gamma_svm):\n",
    "    svc = svm.SVC(C=C_svm, kernel='rbf', gamma=gamma_svm)\n",
    "    scores = cross_val_score(svc, X.values, y.values.ravel(),cv=10)\n",
    "    return sum(scores)/len(scores)"
   ]
  },
  {
   "cell_type": "code",
   "execution_count": null,
   "metadata": {
    "collapsed": false,
    "scrolled": true
   },
   "outputs": [],
   "source": [
    "# 用GridSearchCV来代替手动grid search\n",
    "param_grid = {'C' : arange(0.5,3.5,0.1), 'gamma' : arange(0.0,0.01,0.001), 'kernel' : ['rbf']}\n",
    "svc = svm.SVC(kernel='rbf')\n",
    "grid_search = GridSearchCV(svc, param_grid=param_grid, verbose=2,scoring='accuracy',cv=10).fit(X.values, y.values.ravel())"
   ]
  },
  {
   "cell_type": "code",
   "execution_count": 440,
   "metadata": {
    "collapsed": true
   },
   "outputs": [],
   "source": [
    "def report(grid_scores, n_top=5):\n",
    "    sorted_scores = sorted(grid_scores, key=itemgetter(1), reverse=True)[:n_top]\n",
    "    for i, score in enumerate(sorted_scores):\n",
    "        print \"Model with rank: %d\" % (i + 1)\n",
    "        print \"Mean validation score: %.3f (std: %.3f)\" % (\n",
    "              score.mean_validation_score,\n",
    "              np.std(score.cv_validation_scores))\n",
    "        print \"Parameters: %s\\n\" % (score.parameters)"
   ]
  },
  {
   "cell_type": "code",
   "execution_count": 441,
   "metadata": {
    "collapsed": false
   },
   "outputs": [
    {
     "name": "stdout",
     "output_type": "stream",
     "text": [
      "Model with rank: 1\n",
      "Mean validation score: 0.922 (std: 0.021)\n",
      "Parameters: {'kernel': 'rbf', 'C': 1.6999999999999997, 'gamma': 0.0}\n",
      "\n",
      "Model with rank: 2\n",
      "Mean validation score: 0.922 (std: 0.021)\n",
      "Parameters: {'kernel': 'rbf', 'C': 1.7999999999999998, 'gamma': 0.0}\n",
      "\n",
      "Model with rank: 3\n",
      "Mean validation score: 0.922 (std: 0.020)\n",
      "Parameters: {'kernel': 'rbf', 'C': 1.8999999999999997, 'gamma': 0.0}\n",
      "\n",
      "Model with rank: 4\n",
      "Mean validation score: 0.922 (std: 0.020)\n",
      "Parameters: {'kernel': 'rbf', 'C': 1.9999999999999996, 'gamma': 0.0}\n",
      "\n",
      "Model with rank: 5\n",
      "Mean validation score: 0.922 (std: 0.020)\n",
      "Parameters: {'kernel': 'rbf', 'C': 2.0999999999999996, 'gamma': 0.0}\n",
      "\n"
     ]
    }
   ],
   "source": [
    "report(grid_search.grid_scores_)"
   ]
  },
  {
   "cell_type": "code",
   "execution_count": 433,
   "metadata": {
    "collapsed": false
   },
   "outputs": [
    {
     "data": {
      "text/plain": [
       "0.92199999999999993"
      ]
     },
     "execution_count": 433,
     "metadata": {},
     "output_type": "execute_result"
    }
   ],
   "source": [
    "test_svm(2.0,0.0)"
   ]
  },
  {
   "cell_type": "code",
   "execution_count": 394,
   "metadata": {
    "collapsed": false
   },
   "outputs": [
    {
     "data": {
      "text/plain": [
       "SVC(C=2.0, cache_size=200, class_weight=None, coef0=0.0, degree=3, gamma=0.0,\n",
       "  kernel='rbf', max_iter=-1, probability=False, random_state=None,\n",
       "  shrinking=True, tol=0.001, verbose=False)"
      ]
     },
     "execution_count": 394,
     "metadata": {},
     "output_type": "execute_result"
    }
   ],
   "source": [
    "# 找出来的最优参数：C=2.0, gamma=0.0\n",
    "svc = svm.SVC(C=2.0, kernel='rbf', gamma=0.0)\n",
    "svc.fit(X.values, y.values.ravel())\n",
    "result = svc.predict(X_test.values)\n",
    "print result.shape\n",
    "df = DataFrame(result,index=range(1,9001),columns=['Solution'])\n",
    "df.index.name = 'Id'\n",
    "df.to_csv('pureSVM.csv')"
   ]
  },
  {
   "cell_type": "code",
   "execution_count": 363,
   "metadata": {
    "collapsed": true
   },
   "outputs": [],
   "source": [
    "# 0.91973"
   ]
  },
  {
   "cell_type": "markdown",
   "metadata": {},
   "source": [
    "###PCA"
   ]
  },
  {
   "cell_type": "code",
   "execution_count": 137,
   "metadata": {
    "collapsed": false
   },
   "outputs": [],
   "source": [
    "# 用完整的数据集做feature engineering\n",
    "X_all=X.append(X_test)"
   ]
  },
  {
   "cell_type": "code",
   "execution_count": 86,
   "metadata": {
    "collapsed": false
   },
   "outputs": [
    {
     "name": "stdout",
     "output_type": "stream",
     "text": [
      "[ 0.26133889  0.20395397  0.0791104   0.04814801  0.04541674]\n",
      "[ -2.04156669e-04  -8.28921287e-05   4.89017393e-04   1.76093188e-04\n",
      "   1.13737145e-01  -3.47982436e-04  -1.33343252e-02  -2.23568121e-04\n",
      "   4.76608795e-04  -7.89909972e-05   8.60047736e-05  -6.86555710e-05\n",
      "  -1.73567914e-02  -3.23433263e-04   4.80890352e-03  -1.99086180e-04\n",
      "   3.44468456e-04  -1.68286460e-04   6.46679763e-03  -8.81655812e-05\n",
      "   6.58608982e-04  -6.20642692e-04   3.06351772e-02   9.83519948e-02\n",
      "  -2.32565299e-04  -3.02139342e-04  -1.42387764e-04  -1.18747375e-05\n",
      "  -2.71920913e-02  -2.94135954e-02  -1.11113324e-04  -4.20889431e-04\n",
      "  -2.46413523e-02   4.10153822e-04  -3.73352181e-03   1.89910110e-04\n",
      "   7.24236918e-03   8.62569796e-05  -1.29551403e-02  -2.07840588e-02]\n",
      "[  5.63721424e-04  -5.25019001e-04  -5.61843915e-04   1.09688651e-04\n",
      "   1.75040130e-02  -2.53186295e-04   2.89992655e-02   5.08295433e-03\n",
      "   1.85414961e-05   1.35168545e-04   2.13577752e-04   7.66465936e-04\n",
      "  -1.51705046e-01   2.56379105e-04  -2.70159351e-02  -2.66680985e-05\n",
      "   8.11016760e-04  -1.53555736e-04  -3.33650733e-02   2.47850685e-06\n",
      "  -1.45026556e-04  -7.46731885e-06   1.88105292e-02  -6.12931854e-02\n",
      "   6.10633934e-04  -5.29254529e-05   2.59406438e-04   6.12048512e-04\n",
      "  -4.94370967e-02  -6.58297158e-03  -3.13167430e-05  -8.58294456e-04\n",
      "   1.72107005e-02   4.48726910e-04  -3.82230122e-02   4.32197111e-05\n",
      "   8.48028827e-03  -4.48627764e-04  -5.51863961e-03  -8.27162642e-03]\n"
     ]
    }
   ],
   "source": [
    "pca = PCA(n_components=5,whiten=True)\n",
    "pca.fit(X_all)\n",
    "print pca.explained_variance_ratio_\n",
    "print pca.components_[0]\n",
    "print pca.components_[1]"
   ]
  },
  {
   "cell_type": "code",
   "execution_count": 87,
   "metadata": {
    "collapsed": false
   },
   "outputs": [
    {
     "name": "stdout",
     "output_type": "stream",
     "text": [
      "[ 0.26133889  0.20395397  0.0791104   0.04814801  0.04541674]\n",
      "[ -1.24309888e-03  -5.04725672e-04   2.97760036e-03   1.07222186e-03\n",
      "   6.92539299e-01  -2.11884616e-03  -8.11919823e-02  -1.36129415e-03\n",
      "   2.90204508e-03  -4.80971894e-04   5.23678398e-04  -4.18040045e-04\n",
      "  -1.05684560e-01  -1.96936758e-03   2.92811525e-02  -1.21222494e-03\n",
      "   2.09744973e-03  -1.02468712e-03   3.93759797e-02  -5.36835438e-04\n",
      "   4.01023434e-03  -3.77905966e-03   1.86535931e-01   5.98859957e-01\n",
      "  -1.41607748e-03  -1.83971005e-03  -8.66991363e-04  -7.23046319e-05\n",
      "  -1.65571168e-01  -1.79097786e-01  -6.76562998e-04  -2.56277290e-03\n",
      "  -1.50039857e-01   2.49740436e-03  -2.27332116e-02   1.15635235e-03\n",
      "   4.40983928e-02   5.25214066e-04  -7.88831463e-02  -1.26553006e-01]\n",
      "[  3.03228978e-03  -2.82410723e-03  -3.02219055e-03   5.90021528e-04\n",
      "   9.41550870e-02  -1.36190356e-03   1.55988707e-01   2.73415020e-02\n",
      "   9.97357679e-05   7.27079335e-04   1.14884694e-03   4.12286410e-03\n",
      "  -8.16030117e-01   1.37907787e-03  -1.45320260e-01  -1.43449227e-04\n",
      "   4.36250553e-03  -8.25985083e-04  -1.79472637e-01   1.33320301e-05\n",
      "  -7.80106140e-04  -4.01671352e-05   1.01182912e-01  -3.29699550e-01\n",
      "   3.28463485e-03  -2.84689038e-04   1.39536207e-03   3.29224395e-03\n",
      "  -2.65924970e-01  -3.54101806e-02  -1.68454552e-04  -4.61681496e-03\n",
      "   9.25773425e-02   2.41372771e-03  -2.05603769e-01   2.32481298e-04\n",
      "   4.56159556e-02  -2.41319440e-03  -2.96850781e-02  -4.44935516e-02]\n"
     ]
    }
   ],
   "source": [
    "pca2 = PCA(n_components=5,whiten=False)\n",
    "pca2.fit(X_all)\n",
    "print pca2.explained_variance_ratio_\n",
    "print pca2.components_[0]\n",
    "print pca2.components_[1]"
   ]
  },
  {
   "cell_type": "code",
   "execution_count": 88,
   "metadata": {
    "collapsed": false
   },
   "outputs": [
    {
     "name": "stdout",
     "output_type": "stream",
     "text": [
      "[ 6.08894571  6.08894571  6.08894571  6.08894571  6.08894571  6.08894571\n",
      "  6.08894571  6.08894571  6.08894571  6.08894571  6.08894571  6.08894571\n",
      "  6.08894571  6.08894571  6.08894571  6.08894571  6.08894571  6.08894571\n",
      "  6.08894571  6.08894571  6.08894571  6.08894571  6.08894571  6.08894571\n",
      "  6.08894571  6.08894571  6.08894571  6.08894571  6.08894571  6.08894571\n",
      "  6.08894571  6.08894571  6.08894571  6.08894571  6.08894571  6.08894571\n",
      "  6.08894571  6.08894571  6.08894571  6.08894571]\n",
      "[ 5.37905719  5.37905719  5.37905719  5.37905719  5.37905719  5.37905719\n",
      "  5.37905719  5.37905719  5.37905719  5.37905719  5.37905719  5.37905719\n",
      "  5.37905719  5.37905719  5.37905719  5.37905719  5.37905719  5.37905719\n",
      "  5.37905719  5.37905719  5.37905719  5.37905719  5.37905719  5.37905719\n",
      "  5.37905719  5.37905719  5.37905719  5.37905719  5.37905719  5.37905719\n",
      "  5.37905719  5.37905719  5.37905719  5.37905719  5.37905719  5.37905719\n",
      "  5.37905719  5.37905719  5.37905719  5.37905719]\n"
     ]
    }
   ],
   "source": [
    "# Whiten最大的区别是每个components除以了一个常数\n",
    "# http://deeplearning.stanford.edu/wiki/index.php/Whitening\n",
    "print pca2.components_[0]/pca.components_[0]\n",
    "print pca2.components_[1]/pca.components_[1]"
   ]
  },
  {
   "cell_type": "code",
   "execution_count": 167,
   "metadata": {
    "collapsed": false
   },
   "outputs": [
    {
     "data": {
      "text/plain": [
       "array([  2.61338893e-01,   2.03953972e-01,   7.91104009e-02,\n",
       "         4.81480076e-02,   4.54167442e-02,   4.42563499e-02,\n",
       "         4.04285747e-02,   3.03524876e-02,   2.35202947e-02,\n",
       "         1.92164610e-02,   1.61483800e-02,   1.25565492e-02,\n",
       "         7.65669101e-03,   7.59267345e-03,   7.57067587e-03,\n",
       "         7.45196972e-03,   7.39437803e-03,   7.33602203e-03,\n",
       "         7.32154020e-03,   7.26446366e-03,   7.24687802e-03,\n",
       "         7.13785979e-03,   7.08554112e-03,   7.05759361e-03,\n",
       "         7.01144882e-03,   6.98357997e-03,   6.90865448e-03,\n",
       "         6.88494883e-03,   6.84557325e-03,   6.83367011e-03,\n",
       "         6.74339150e-03,   6.70112785e-03,   6.63533428e-03,\n",
       "         6.57374179e-03,   6.49188079e-03,   6.46379503e-03,\n",
       "         6.35945185e-03,   5.15400090e-32,   1.23862075e-32,\n",
       "         1.13262130e-32])"
      ]
     },
     "execution_count": 167,
     "metadata": {},
     "output_type": "execute_result"
    }
   ],
   "source": [
    "pca_all = PCA(whiten=True)\n",
    "X_all_pca = DataFrame(pca_all.fit_transform(X_all))\n",
    "pca_all.explained_variance_ratio_\n",
    "# 后三个component是废的，前两个最有用"
   ]
  },
  {
   "cell_type": "code",
   "execution_count": 168,
   "metadata": {
    "collapsed": false
   },
   "outputs": [
    {
     "data": {
      "text/html": [
       "<div style=\"max-height:1000px;max-width:1500px;overflow:auto;\">\n",
       "<table border=\"1\" class=\"dataframe\">\n",
       "  <thead>\n",
       "    <tr style=\"text-align: right;\">\n",
       "      <th></th>\n",
       "      <th>0</th>\n",
       "      <th>1</th>\n",
       "      <th>2</th>\n",
       "      <th>3</th>\n",
       "      <th>4</th>\n",
       "      <th>5</th>\n",
       "      <th>6</th>\n",
       "      <th>7</th>\n",
       "      <th>8</th>\n",
       "      <th>9</th>\n",
       "      <th>...</th>\n",
       "      <th>30</th>\n",
       "      <th>31</th>\n",
       "      <th>32</th>\n",
       "      <th>33</th>\n",
       "      <th>34</th>\n",
       "      <th>35</th>\n",
       "      <th>36</th>\n",
       "      <th>37</th>\n",
       "      <th>38</th>\n",
       "      <th>39</th>\n",
       "    </tr>\n",
       "  </thead>\n",
       "  <tbody>\n",
       "    <tr>\n",
       "      <th>0</th>\n",
       "      <td> 0.905248</td>\n",
       "      <td>-0.734391</td>\n",
       "      <td>-0.028281</td>\n",
       "      <td>-0.250040</td>\n",
       "      <td>-0.131021</td>\n",
       "      <td>-1.550433</td>\n",
       "      <td>-0.746365</td>\n",
       "      <td> 1.070245</td>\n",
       "      <td> 1.833688</td>\n",
       "      <td>-1.992710</td>\n",
       "      <td>...</td>\n",
       "      <td> 0.098435</td>\n",
       "      <td> 0.514095</td>\n",
       "      <td> 2.641695</td>\n",
       "      <td> 0.154293</td>\n",
       "      <td> 1.233280</td>\n",
       "      <td>-0.931553</td>\n",
       "      <td>-0.690825</td>\n",
       "      <td> 1.010828</td>\n",
       "      <td>  0.547018</td>\n",
       "      <td>  2.005594</td>\n",
       "    </tr>\n",
       "    <tr>\n",
       "      <th>1</th>\n",
       "      <td>-0.272257</td>\n",
       "      <td> 0.107946</td>\n",
       "      <td>-1.464515</td>\n",
       "      <td>-1.190239</td>\n",
       "      <td>-0.439911</td>\n",
       "      <td>-0.080626</td>\n",
       "      <td>-1.293433</td>\n",
       "      <td> 0.268941</td>\n",
       "      <td> 0.044437</td>\n",
       "      <td> 0.319472</td>\n",
       "      <td>...</td>\n",
       "      <td> 0.117268</td>\n",
       "      <td> 0.434911</td>\n",
       "      <td>-0.612923</td>\n",
       "      <td> 2.045606</td>\n",
       "      <td> 0.350153</td>\n",
       "      <td>-0.532399</td>\n",
       "      <td>-1.639592</td>\n",
       "      <td> 9.664470</td>\n",
       "      <td>  3.095211</td>\n",
       "      <td>-12.648961</td>\n",
       "    </tr>\n",
       "    <tr>\n",
       "      <th>2</th>\n",
       "      <td> 0.883696</td>\n",
       "      <td> 1.807787</td>\n",
       "      <td> 1.149679</td>\n",
       "      <td>-0.699401</td>\n",
       "      <td> 1.035716</td>\n",
       "      <td> 2.230744</td>\n",
       "      <td> 1.261359</td>\n",
       "      <td>-0.508727</td>\n",
       "      <td>-0.376268</td>\n",
       "      <td>-0.023608</td>\n",
       "      <td>...</td>\n",
       "      <td> 1.137570</td>\n",
       "      <td>-1.060918</td>\n",
       "      <td> 1.333583</td>\n",
       "      <td> 0.277628</td>\n",
       "      <td>-0.896627</td>\n",
       "      <td> 2.739752</td>\n",
       "      <td>-0.763060</td>\n",
       "      <td> 2.354643</td>\n",
       "      <td> -3.555056</td>\n",
       "      <td> -2.156877</td>\n",
       "    </tr>\n",
       "    <tr>\n",
       "      <th>3</th>\n",
       "      <td> 0.069545</td>\n",
       "      <td>-0.522805</td>\n",
       "      <td>-0.135074</td>\n",
       "      <td> 0.021483</td>\n",
       "      <td> 2.207725</td>\n",
       "      <td>-1.677389</td>\n",
       "      <td>-1.332951</td>\n",
       "      <td> 0.125702</td>\n",
       "      <td> 0.108489</td>\n",
       "      <td> 0.348273</td>\n",
       "      <td>...</td>\n",
       "      <td>-2.345327</td>\n",
       "      <td>-1.819193</td>\n",
       "      <td>-0.053653</td>\n",
       "      <td>-1.105160</td>\n",
       "      <td> 1.613420</td>\n",
       "      <td> 0.338174</td>\n",
       "      <td> 0.165457</td>\n",
       "      <td> 2.770163</td>\n",
       "      <td>  0.381373</td>\n",
       "      <td> -4.199706</td>\n",
       "    </tr>\n",
       "    <tr>\n",
       "      <th>4</th>\n",
       "      <td> 0.754160</td>\n",
       "      <td> 2.330061</td>\n",
       "      <td> 0.390364</td>\n",
       "      <td>-1.190719</td>\n",
       "      <td>-0.975499</td>\n",
       "      <td> 2.548114</td>\n",
       "      <td> 0.862915</td>\n",
       "      <td>-0.114067</td>\n",
       "      <td>-0.574123</td>\n",
       "      <td>-1.549394</td>\n",
       "      <td>...</td>\n",
       "      <td> 0.201476</td>\n",
       "      <td> 2.886059</td>\n",
       "      <td>-0.486752</td>\n",
       "      <td>-0.018790</td>\n",
       "      <td>-0.954153</td>\n",
       "      <td> 0.387484</td>\n",
       "      <td> 0.149875</td>\n",
       "      <td> 6.471168</td>\n",
       "      <td> 59.839824</td>\n",
       "      <td> 48.837177</td>\n",
       "    </tr>\n",
       "  </tbody>\n",
       "</table>\n",
       "<p>5 rows × 40 columns</p>\n",
       "</div>"
      ],
      "text/plain": [
       "         0         1         2         3         4         5         6   \\\n",
       "0  0.905248 -0.734391 -0.028281 -0.250040 -0.131021 -1.550433 -0.746365   \n",
       "1 -0.272257  0.107946 -1.464515 -1.190239 -0.439911 -0.080626 -1.293433   \n",
       "2  0.883696  1.807787  1.149679 -0.699401  1.035716  2.230744  1.261359   \n",
       "3  0.069545 -0.522805 -0.135074  0.021483  2.207725 -1.677389 -1.332951   \n",
       "4  0.754160  2.330061  0.390364 -1.190719 -0.975499  2.548114  0.862915   \n",
       "\n",
       "         7         8         9     ...            30        31        32  \\\n",
       "0  1.070245  1.833688 -1.992710    ...      0.098435  0.514095  2.641695   \n",
       "1  0.268941  0.044437  0.319472    ...      0.117268  0.434911 -0.612923   \n",
       "2 -0.508727 -0.376268 -0.023608    ...      1.137570 -1.060918  1.333583   \n",
       "3  0.125702  0.108489  0.348273    ...     -2.345327 -1.819193 -0.053653   \n",
       "4 -0.114067 -0.574123 -1.549394    ...      0.201476  2.886059 -0.486752   \n",
       "\n",
       "         33        34        35        36        37         38         39  \n",
       "0  0.154293  1.233280 -0.931553 -0.690825  1.010828   0.547018   2.005594  \n",
       "1  2.045606  0.350153 -0.532399 -1.639592  9.664470   3.095211 -12.648961  \n",
       "2  0.277628 -0.896627  2.739752 -0.763060  2.354643  -3.555056  -2.156877  \n",
       "3 -1.105160  1.613420  0.338174  0.165457  2.770163   0.381373  -4.199706  \n",
       "4 -0.018790 -0.954153  0.387484  0.149875  6.471168  59.839824  48.837177  \n",
       "\n",
       "[5 rows x 40 columns]"
      ]
     },
     "execution_count": 168,
     "metadata": {},
     "output_type": "execute_result"
    }
   ],
   "source": [
    "X_all_pca.head()"
   ]
  },
  {
   "cell_type": "code",
   "execution_count": 173,
   "metadata": {
    "collapsed": false,
    "scrolled": false
   },
   "outputs": [
    {
     "data": {
      "text/plain": [
       "<matplotlib.axes._subplots.AxesSubplot at 0x122108310>"
      ]
     },
     "execution_count": 173,
     "metadata": {},
     "output_type": "execute_result"
    },
    {
     "data": {
      "image/png": "[encoded data removed]",
      "text/plain": [
       "<matplotlib.figure.Figure at 0x121742510>"
      ]
     },
     "metadata": {},
     "output_type": "display_data"
    }
   ],
   "source": [
    "fig, axes = plt.subplots(nrows=1, ncols=4, figsize=(40,8))\n",
    "\n",
    "for i in range(3):\n",
    "    X_all_pca[i].hist(ax=axes[i], normed=True)\n",
    "    X_all_pca[i].plot(kind='kde',style='k--',ax=axes[i])\n",
    "X_all_pca[37].hist(ax=axes[3], normed=True)\n",
    "X_all_pca[37].plot(kind='kde',style='k--',ax=axes[3])\n",
    "# 最后三个pca开始基本都是废的"
   ]
  },
  {
   "cell_type": "code",
   "execution_count": 128,
   "metadata": {
    "collapsed": false
   },
   "outputs": [
    {
     "data": {
      "text/plain": [
       "<matplotlib.collections.PathCollection at 0x1106b8650>"
      ]
     },
     "execution_count": 128,
     "metadata": {},
     "output_type": "execute_result"
    },
    {
     "data": {
      "image/png": "[encoded data removed]",
      "text/plain": [
       "<matplotlib.figure.Figure at 0x10f8ebd90>"
      ]
     },
     "metadata": {},
     "output_type": "display_data"
    }
   ],
   "source": [
    "# 用头两个pca画一下分类情况，还是有比较明显的pattern的\n",
    "fit, axes = plt.subplots(figsize=(10,10))\n",
    "mask_0 = (y == 0)[0]\n",
    "mask_1 = (y == 1)[0]\n",
    "axes.scatter(X_pca[mask_0][0],X_pca[mask_0][1],color='blue')\n",
    "axes.scatter(X_pca[mask_1][0],X_pca[mask_1][1],color='red')"
   ]
  },
  {
   "cell_type": "markdown",
   "metadata": {},
   "source": [
    "###用PCA的结果放到SVM来分类\n",
    "只用前12个PCA分量来预测. 这样可以减少一些不必要的noise\n",
    "\n",
    "PCA只学习feature的pattern，因此take advantage了test data的feature信息(量很大，train的九倍)。所以比不经过这步preprocess的SVM效果好"
   ]
  },
  {
   "cell_type": "code",
   "execution_count": 461,
   "metadata": {
    "collapsed": false
   },
   "outputs": [
    {
     "name": "stdout",
     "output_type": "stream",
     "text": [
      "(1000, 12)\n",
      "(1000,)\n"
     ]
    }
   ],
   "source": [
    "pca = PCA(n_components=12,whiten=True)\n",
    "pca.fit(X_all)\n",
    "X_pca = pca.transform(X)\n",
    "X_test_pca = pca.transform(X_test)\n",
    "y_train = y.values.ravel()\n",
    "print X_pca.shape\n",
    "print y_train.shape"
   ]
  },
  {
   "cell_type": "code",
   "execution_count": 373,
   "metadata": {
    "collapsed": true
   },
   "outputs": [],
   "source": [
    "def test_svm(C_svm, gamma_svm):\n",
    "    k_fold = cross_validation.KFold(len(X), n_folds=10)\n",
    "    scores = []\n",
    "    for train_indices, test_indices in k_fold:\n",
    "        svc = svm.SVC(C=C_svm, kernel='rbf', gamma=gamma_svm)\n",
    "        svc.fit(X_pca[train_indices], y_train[train_indices])\n",
    "        score = svc.score(X_pca[test_indices], y_train[test_indices])\n",
    "        scores.append(score)\n",
    "    #print scores\n",
    "    return sum(scores)/len(scores)"
   ]
  },
  {
   "cell_type": "code",
   "execution_count": null,
   "metadata": {
    "collapsed": false,
    "scrolled": true
   },
   "outputs": [],
   "source": [
    "gamma = 0.0\n",
    "for C in arange(0.1,4.0,0.1):\n",
    "    #for gamma in arange(0.00, 0.01,0.001):\n",
    "         print \"C=%f, gamma=%f, score=%f\" % (C, gamma, test_svm(C,gamma))"
   ]
  },
  {
   "cell_type": "code",
   "execution_count": null,
   "metadata": {
    "collapsed": false,
    "scrolled": true
   },
   "outputs": [],
   "source": [
    "for C in arange(0.8,1.2,0.1):\n",
    "    for gamma in arange(0.00, 1.00,0.1):\n",
    "         print \"C=%f, gamma=%f, score=%f\" % (C, gamma, test_svm(C,gamma))"
   ]
  },
  {
   "cell_type": "code",
   "execution_count": null,
   "metadata": {
    "collapsed": false,
    "scrolled": true
   },
   "outputs": [],
   "source": [
    "C = 1.0\n",
    "#for C in arange(1.0,1.2,0.1):\n",
    "for gamma in arange(0.2, 0.4,0.01):\n",
    "     print \"C=%f, gamma=%f, score=%f\" % (C, gamma, test_svm(C,gamma))"
   ]
  },
  {
   "cell_type": "code",
   "execution_count": null,
   "metadata": {
    "collapsed": false,
    "scrolled": true
   },
   "outputs": [],
   "source": [
    "# 用GridSearchCV来代替手动grid search\n",
    "param_grid = {'C' : arange(0.1,4.0,0.1), \n",
    "              'gamma' : arange(0.0,1.0,0.05), \n",
    "              'kernel' : ['rbf']\n",
    "             }\n",
    "svc = svm.SVC(kernel='rbf')\n",
    "grid_search = GridSearchCV(svc, param_grid=param_grid, verbose=2,scoring='accuracy',cv=10,n_jobs=4).fit(X_pca, y_train)"
   ]
  },
  {
   "cell_type": "code",
   "execution_count": 484,
   "metadata": {
    "collapsed": false
   },
   "outputs": [
    {
     "name": "stdout",
     "output_type": "stream",
     "text": [
      "Model with rank: 1\n",
      "Mean validation score: 0.956 (std: 0.010)\n",
      "Parameters: {'kernel': 'rbf', 'C': 2.2000000000000002, 'gamma': 0.25}\n",
      "\n",
      "Model with rank: 2\n",
      "Mean validation score: 0.956 (std: 0.013)\n",
      "Parameters: {'kernel': 'rbf', 'C': 2.5000000000000004, 'gamma': 0.25}\n",
      "\n",
      "Model with rank: 3\n",
      "Mean validation score: 0.955 (std: 0.016)\n",
      "Parameters: {'kernel': 'rbf', 'C': 1.2000000000000002, 'gamma': 0.30000000000000004}\n",
      "\n",
      "Model with rank: 4\n",
      "Mean validation score: 0.955 (std: 0.016)\n",
      "Parameters: {'kernel': 'rbf', 'C': 1.3000000000000003, 'gamma': 0.30000000000000004}\n",
      "\n",
      "Model with rank: 5\n",
      "Mean validation score: 0.955 (std: 0.017)\n",
      "Parameters: {'kernel': 'rbf', 'C': 1.5000000000000002, 'gamma': 0.25}\n",
      "\n"
     ]
    }
   ],
   "source": [
    "report(grid_search.grid_scores_)"
   ]
  },
  {
   "cell_type": "code",
   "execution_count": 379,
   "metadata": {
    "collapsed": false
   },
   "outputs": [
    {
     "data": {
      "text/plain": [
       "SVC(C=1, cache_size=200, class_weight=None, coef0=0.0, degree=3, gamma=0.3,\n",
       "  kernel='rbf', max_iter=-1, probability=False, random_state=None,\n",
       "  shrinking=True, tol=0.001, verbose=False)"
      ]
     },
     "execution_count": 379,
     "metadata": {},
     "output_type": "execute_result"
    }
   ],
   "source": [
    "svc = SVC(C=2.2, kernel='rbf', gamma=0.25)\n",
    "svc.fit(X_pca, y_train)\n",
    "result = svc.predict(X_test_pca)\n",
    "print result.shape\n",
    "df = DataFrame(result,index=range(1,9001),columns=['Solution'])\n",
    "df.index.name = 'Id'\n",
    "df.to_csv('pcaSVM.csv')"
   ]
  },
  {
   "cell_type": "code",
   "execution_count": 364,
   "metadata": {
    "collapsed": true
   },
   "outputs": [],
   "source": [
    "# 0.95266\n",
    "# 对比裸SVM: 0.91973"
   ]
  },
  {
   "cell_type": "markdown",
   "metadata": {},
   "source": [
    "### PCA + Random Forest"
   ]
  },
  {
   "cell_type": "code",
   "execution_count": 442,
   "metadata": {
    "collapsed": false
   },
   "outputs": [
    {
     "name": "stdout",
     "output_type": "stream",
     "text": [
      "(1000, 12)\n",
      "(1000,)\n"
     ]
    }
   ],
   "source": [
    "pca = PCA(n_components=12,whiten=True)\n",
    "pca.fit(X_all)\n",
    "X_pca = pca.transform(X)\n",
    "X_test_pca = pca.transform(X_test)\n",
    "y_train = y.values.ravel()\n",
    "print X_pca.shape\n",
    "print y_train.shape"
   ]
  },
  {
   "cell_type": "code",
   "execution_count": 487,
   "metadata": {
    "collapsed": true
   },
   "outputs": [],
   "source": [
    "# 直接用cv_score更简单\n",
    "def test_rfc(n_est):\n",
    "    clf=RandomForestClassifier(n_estimators=n_est, criterion='entropy', max_depth=5, min_samples_split=1, min_samples_leaf=3, max_features='auto', bootstrap=False, oob_score=False, n_jobs=4, random_state=33,verbose=0, min_density=None, compute_importances=None)\n",
    "    scores = cross_val_score(clf, X_pca, y_train ,cv=10)\n",
    "    return sum(scores)/len(scores)"
   ]
  },
  {
   "cell_type": "code",
   "execution_count": 488,
   "metadata": {
    "collapsed": false
   },
   "outputs": [
    {
     "data": {
      "text/plain": [
       "0.85699999999999998"
      ]
     },
     "execution_count": 488,
     "metadata": {},
     "output_type": "execute_result"
    }
   ],
   "source": [
    "test_rfc(1000)"
   ]
  },
  {
   "cell_type": "code",
   "execution_count": 524,
   "metadata": {
    "collapsed": false
   },
   "outputs": [],
   "source": [
    "# 用GridSearchCV来代替手动grid search\n",
    "param_grid = {'n_estimators' : arange(400,700,100),\n",
    "              #'criterion' : ['entropy'],\n",
    "              'criterion' : ['gini'],\n",
    "              #'max_depth' : arange(2,7,1),\n",
    "              #'min_samples_split': arange(2,3,1),\n",
    "              #'min_samples_leaf' : arange(1,2,1),\n",
    "             }\n",
    "clf = RandomForestClassifier(bootstrap=False, oob_score=False, random_state=33)\n",
    "grid_search = GridSearchCV(clf, param_grid=param_grid, verbose=0,scoring='accuracy',cv=10,n_jobs=4).fit(X_pca, y_train)"
   ]
  },
  {
   "cell_type": "code",
   "execution_count": 505,
   "metadata": {
    "collapsed": false,
    "scrolled": false
   },
   "outputs": [
    {
     "name": "stdout",
     "output_type": "stream",
     "text": [
      "Model with rank: 1\n",
      "Mean validation score: 0.920 (std: 0.028)\n",
      "Parameters: {'min_samples_split': 2, 'n_estimators': 400, 'criterion': 'gini', 'min_samples_leaf': 1}\n",
      "\n",
      "Model with rank: 2\n",
      "Mean validation score: 0.918 (std: 0.028)\n",
      "Parameters: {'min_samples_split': 1, 'n_estimators': 500, 'criterion': 'gini', 'min_samples_leaf': 1}\n",
      "\n",
      "Model with rank: 3\n",
      "Mean validation score: 0.917 (std: 0.026)\n",
      "Parameters: {'min_samples_split': 2, 'n_estimators': 600, 'criterion': 'gini', 'min_samples_leaf': 1}\n",
      "\n",
      "Model with rank: 4\n",
      "Mean validation score: 0.917 (std: 0.029)\n",
      "Parameters: {'min_samples_split': 2, 'n_estimators': 600, 'criterion': 'gini', 'min_samples_leaf': 2}\n",
      "\n",
      "Model with rank: 5\n",
      "Mean validation score: 0.915 (std: 0.031)\n",
      "Parameters: {'min_samples_split': 2, 'n_estimators': 500, 'criterion': 'gini', 'min_samples_leaf': 1}\n",
      "\n"
     ]
    }
   ],
   "source": [
    "# random forest在这里面纯用pca结果效果没有SVM好，找不出来一组特别好的参数\n",
    "report(grid_search.grid_scores_)"
   ]
  },
  {
   "cell_type": "markdown",
   "metadata": {},
   "source": [
    "### GMM\n",
    "观察发现每个分量不是严格Gaussian，所以总的分布不是muti-variate Gaussian，tail部分有一些扭曲，中间部分比较fit\n",
    "\n",
    "可以利用Gaussian Mixture Model来fit这种偏离"
   ]
  },
  {
   "cell_type": "code",
   "execution_count": 185,
   "metadata": {
    "collapsed": false
   },
   "outputs": [
    {
     "data": {
      "image/png": "[encoded data removed]",
      "text/plain": [
       "<matplotlib.figure.Figure at 0x126c58290>"
      ]
     },
     "metadata": {},
     "output_type": "display_data"
    }
   ],
   "source": [
    "fig, axes = plt.subplots(nrows=1, ncols=4, figsize=(40,8))\n",
    "\n",
    "for i in range(3):\n",
    "    sm.qqplot(X_all_pca[i], fit=True, line='45', ax=axes[i])\n",
    "sm.qqplot(X_all_pca[39], fit=True, line='45', ax=axes[3])\n",
    "\n",
    "plt.show()\n"
   ]
  },
  {
   "cell_type": "code",
   "execution_count": 528,
   "metadata": {
    "collapsed": true
   },
   "outputs": [],
   "source": [
    "# 官网GMM model selection\n",
    "lowest_bic = np.infty\n",
    "bic = []\n",
    "n_components_range = range(1, 7)\n",
    "cv_types = ['spherical', 'tied', 'diag', 'full']\n",
    "for cv_type in cv_types:\n",
    "    for n_components in n_components_range:\n",
    "        # Fit a mixture of Gaussians with EM\n",
    "        gmm = GMM(n_components=n_components, covariance_type=cv_type)\n",
    "        gmm.fit(X_all_pca)\n",
    "        bic.append(gmm.bic(X_all_pca))\n",
    "        if bic[-1] < lowest_bic:\n",
    "            lowest_bic = bic[-1]\n",
    "            best_gmm = gmm"
   ]
  },
  {
   "cell_type": "code",
   "execution_count": 532,
   "metadata": {
    "collapsed": false
   },
   "outputs": [
    {
     "data": {
      "text/plain": [
       "<matplotlib.legend.Legend at 0x1271d9ad0>"
      ]
     },
     "execution_count": 532,
     "metadata": {},
     "output_type": "execute_result"
    },
    {
     "data": {
      "image/png": "[encoded data removed]",
      "text/plain": [
       "<matplotlib.figure.Figure at 0x126c7c750>"
      ]
     },
     "metadata": {},
     "output_type": "display_data"
    }
   ],
   "source": [
    "bic = np.array(bic)\n",
    "color_iter = ['k', 'r', 'g', 'b', 'c', 'm', 'y']\n",
    "clf = best_gmm\n",
    "bars = []\n",
    "\n",
    "# Plot the BIC scores\n",
    "spl = plt.subplot(2, 1, 1)\n",
    "for i, (cv_type, color) in enumerate(zip(cv_types, color_iter)):\n",
    "    xpos = np.array(n_components_range) + .2 * (i - 2)\n",
    "    bars.append(plt.bar(xpos, bic[i * len(n_components_range):\n",
    "                                  (i + 1) * len(n_components_range)],\n",
    "                        width=.2, color=color))\n",
    "plt.xticks(n_components_range)\n",
    "plt.ylim([bic.min() * 1.01 - .01 * bic.max(), bic.max()])\n",
    "plt.title('BIC score per model')\n",
    "xpos = np.mod(bic.argmin(), len(n_components_range)) + .65 +\\\n",
    "    .2 * np.floor(bic.argmin() / len(n_components_range))\n",
    "plt.text(xpos, bic.min() * 0.97 + .03 * bic.max(), '*', fontsize=14)\n",
    "spl.set_xlabel('Number of components')\n",
    "spl.legend([b[0] for b in bars], cv_types)"
   ]
  },
  {
   "cell_type": "code",
   "execution_count": 541,
   "metadata": {
    "collapsed": false
   },
   "outputs": [],
   "source": [
    "# 选择4个GMM component, 'full' covariance type来fit GMM model\n",
    "gmm = best_gmm.fit(X_all_pca)\n",
    "X_pca_gmm = gmm.predict_proba(X_pca)\n",
    "X_test_pca_gmm = gmm.predict_proba(X_test_pca)\n",
    "print X_pca_gmm.shape\n",
    "print X_test_pca_gmm.shape"
   ]
  },
  {
   "cell_type": "code",
   "execution_count": 551,
   "metadata": {
    "collapsed": false
   },
   "outputs": [
    {
     "data": {
      "text/plain": [
       "(array([ 754.,    1.,    1.,    0.,    2.,    0.,    1.,    0.,    2.,  239.]),\n",
       " array([ 0. ,  0.1,  0.2,  0.3,  0.4,  0.5,  0.6,  0.7,  0.8,  0.9,  1. ]),\n",
       " <a list of 10 Patch objects>)"
      ]
     },
     "execution_count": 551,
     "metadata": {},
     "output_type": "execute_result"
    },
    {
     "data": {
      "image/png": "[encoded data removed]",
      "text/plain": [
       "<matplotlib.figure.Figure at 0x1254c1cd0>"
      ]
     },
     "metadata": {},
     "output_type": "display_data"
    }
   ],
   "source": [
    "# 每个数据点的GMM归属非常非常明确，用这个class prob去train SVM\n",
    "hist(X_pca_gmm[:,0])"
   ]
  },
  {
   "cell_type": "code",
   "execution_count": 599,
   "metadata": {
    "collapsed": false,
    "scrolled": true
   },
   "outputs": [],
   "source": [
    "# 用GridSearchCV来代替手动grid search\n",
    "param_grid = {'C' : arange(0.008,0.011,0.001), \n",
    "              'gamma' : arange(0.0,0.01,0.001), \n",
    "              'kernel' : ['rbf']\n",
    "             }\n",
    "svc = svm.SVC(kernel='rbf')\n",
    "grid_search = GridSearchCV(svc, param_grid=param_grid, verbose=0,scoring='accuracy',cv=10,n_jobs=4).fit(X_pca_gmm, y_train)"
   ]
  },
  {
   "cell_type": "code",
   "execution_count": 600,
   "metadata": {
    "collapsed": false
   },
   "outputs": [
    {
     "name": "stdout",
     "output_type": "stream",
     "text": [
      "Model with rank: 1\n",
      "Mean validation score: 0.996 (std: 0.007)\n",
      "Parameters: {'kernel': 'rbf', 'C': 0.0080000000000000002, 'gamma': 0.0}\n",
      "\n",
      "Model with rank: 2\n",
      "Mean validation score: 0.996 (std: 0.007)\n",
      "Parameters: {'kernel': 'rbf', 'C': 0.0090000000000000011, 'gamma': 0.0}\n",
      "\n",
      "Model with rank: 3\n",
      "Mean validation score: 0.996 (std: 0.007)\n",
      "Parameters: {'kernel': 'rbf', 'C': 0.010000000000000002, 'gamma': 0.0}\n",
      "\n",
      "Model with rank: 4\n",
      "Mean validation score: 0.510 (std: 0.000)\n",
      "Parameters: {'kernel': 'rbf', 'C': 0.0080000000000000002, 'gamma': 0.001}\n",
      "\n",
      "Model with rank: 5\n",
      "Mean validation score: 0.510 (std: 0.000)\n",
      "Parameters: {'kernel': 'rbf', 'C': 0.0080000000000000002, 'gamma': 0.002}\n",
      "\n"
     ]
    }
   ],
   "source": [
    "report(grid_search.grid_scores_)"
   ]
  },
  {
   "cell_type": "code",
   "execution_count": 559,
   "metadata": {
    "collapsed": true
   },
   "outputs": [],
   "source": [
    "# 直接用cv_score更简单\n",
    "def test_svm(C_svm, gamma_svm):\n",
    "    svc = svm.SVC(C=C_svm, kernel='rbf', gamma=gamma_svm)\n",
    "    scores = cross_val_score(svc, X_pca_gmm, y_train,cv=10)\n",
    "    return sum(scores)/len(scores)"
   ]
  },
  {
   "cell_type": "code",
   "execution_count": 601,
   "metadata": {
    "collapsed": false
   },
   "outputs": [
    {
     "data": {
      "text/plain": [
       "0.99600000000000011"
      ]
     },
     "execution_count": 601,
     "metadata": {},
     "output_type": "execute_result"
    }
   ],
   "source": [
    "test_svm(0.01,0.0)"
   ]
  },
  {
   "cell_type": "code",
   "execution_count": 602,
   "metadata": {
    "collapsed": false
   },
   "outputs": [
    {
     "name": "stdout",
     "output_type": "stream",
     "text": [
      "(9000,)\n"
     ]
    }
   ],
   "source": [
    "svc = SVC(C=0.01, kernel='rbf', gamma=0.0)\n",
    "svc.fit(X_pca_gmm, y_train)\n",
    "result = svc.predict(X_test_pca_gmm)\n",
    "print result.shape\n",
    "df = DataFrame(result,index=range(1,9001),columns=['Solution'])\n",
    "df.index.name = 'Id'\n",
    "df.to_csv('pca_GMM_SVM.csv')"
   ]
  },
  {
   "cell_type": "code",
   "execution_count": null,
   "metadata": {
    "collapsed": true
   },
   "outputs": [],
   "source": [
    "# 0.99208"
   ]
  },
  {
   "cell_type": "markdown",
   "metadata": {},
   "source": [
    "### GMM + PCA + RandomForest"
   ]
  },
  {
   "cell_type": "code",
   "execution_count": 613,
   "metadata": {
    "collapsed": true
   },
   "outputs": [],
   "source": [
    "# 直接用cv_score更简单\n",
    "def test_rfc(n_est):\n",
    "    clf=RandomForestClassifier(n_estimators=n_est, criterion='gini', max_depth=2, min_samples_split=1, min_samples_leaf=1, max_features='auto', bootstrap=False, oob_score=False, n_jobs=4, random_state=33,verbose=0, min_density=None, compute_importances=None)\n",
    "    scores = cross_val_score(clf, X_pca_gmm, y_train ,cv=10)\n",
    "    return sum(scores)/len(scores)"
   ]
  },
  {
   "cell_type": "code",
   "execution_count": 615,
   "metadata": {
    "collapsed": false
   },
   "outputs": [
    {
     "data": {
      "text/plain": [
       "0.99500000000000011"
      ]
     },
     "execution_count": 615,
     "metadata": {},
     "output_type": "execute_result"
    }
   ],
   "source": [
    "test_rfc(800)"
   ]
  },
  {
   "cell_type": "code",
   "execution_count": 611,
   "metadata": {
    "collapsed": false
   },
   "outputs": [],
   "source": [
    "# 用GridSearchCV来代替手动grid search\n",
    "param_grid = {'n_estimators' : arange(800,900,100),\n",
    "              'criterion' : ['entropy'],\n",
    "              #'criterion' : ['gini'],\n",
    "              'max_depth' : arange(2,5,1),\n",
    "              'min_samples_split': arange(1,2,1),\n",
    "              'min_samples_leaf' : arange(1,2,1),\n",
    "             }\n",
    "clf = RandomForestClassifier(bootstrap=False, oob_score=False, random_state=33)\n",
    "grid_search = GridSearchCV(clf, param_grid=param_grid, verbose=0,scoring='accuracy',cv=10,n_jobs=4).fit(X_pca_gmm, y_train)"
   ]
  },
  {
   "cell_type": "code",
   "execution_count": 608,
   "metadata": {
    "collapsed": false,
    "scrolled": false
   },
   "outputs": [
    {
     "name": "stdout",
     "output_type": "stream",
     "text": [
      "Model with rank: 1\n",
      "Mean validation score: 0.995 (std: 0.007)\n",
      "Parameters: {'n_estimators': 800, 'criterion': 'gini', 'max_depth': 2}\n",
      "\n",
      "Model with rank: 2\n",
      "Mean validation score: 0.995 (std: 0.007)\n",
      "Parameters: {'n_estimators': 900, 'criterion': 'gini', 'max_depth': 2}\n",
      "\n",
      "Model with rank: 3\n",
      "Mean validation score: 0.995 (std: 0.007)\n",
      "Parameters: {'n_estimators': 1000, 'criterion': 'gini', 'max_depth': 2}\n",
      "\n",
      "Model with rank: 4\n",
      "Mean validation score: 0.995 (std: 0.007)\n",
      "Parameters: {'n_estimators': 800, 'criterion': 'gini', 'max_depth': 3}\n",
      "\n",
      "Model with rank: 5\n",
      "Mean validation score: 0.995 (std: 0.007)\n",
      "Parameters: {'n_estimators': 800, 'criterion': 'gini', 'max_depth': 4}\n",
      "\n"
     ]
    }
   ],
   "source": [
    "report(grid_search.grid_scores_)"
   ]
  },
  {
   "cell_type": "code",
   "execution_count": 619,
   "metadata": {
    "collapsed": false
   },
   "outputs": [
    {
     "name": "stdout",
     "output_type": "stream",
     "text": [
      "(9000,)\n"
     ]
    }
   ],
   "source": [
    "clf=RandomForestClassifier(n_estimators=800, criterion='gini', max_depth=2, min_samples_split=1, min_samples_leaf=1, max_features='auto', bootstrap=False, oob_score=False, n_jobs=4, random_state=33,verbose=0, min_density=None, compute_importances=None)\n",
    "clf.fit(X_pca_gmm,y_train)\n",
    "result = clf.predict(X_test_pca_gmm)\n",
    "print result.shape\n",
    "df = DataFrame(result,index=range(1,9001),columns=['Solution'])\n",
    "df.index.name = 'Id'\n",
    "df.to_csv('pca_GMM_RF.csv')"
   ]
  },
  {
   "cell_type": "code",
   "execution_count": 620,
   "metadata": {
    "collapsed": true
   },
   "outputs": [],
   "source": [
    "# 0.99113\n",
    "# 和SVM差不多"
   ]
  }
 ],
 "metadata": {
  "kernelspec": {
   "display_name": "Python 2",
   "language": "python",
   "name": "python2"
  },
  "language_info": {
   "codemirror_mode": {
    "name": "ipython",
    "version": 2
   },
   "file_extension": ".py",
   "mimetype": "text/x-python",
   "name": "python",
   "nbconvert_exporter": "python",
   "pygments_lexer": "ipython2",
   "version": "2.7.10"
  }
 },
 "nbformat": 4,
 "nbformat_minor": 0
}
